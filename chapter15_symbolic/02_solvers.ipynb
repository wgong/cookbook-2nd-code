{
 "cells": [
  {
   "cell_type": "markdown",
   "metadata": {},
   "source": [
    "# 15.2. Solving equations and inequalities\n",
    "\n",
    "https://ipython-books.github.io/152-solving-equations-and-inequalities/\n",
    "\n",
    "\n",
    "## Ref\n",
    "\n",
    "* SymPy Matrix guide at http://docs.sympy.org/latest/modules/matrices/matrices.html).\n",
    "* Linear algebra on Wikipedia, at https://en.wikipedia.org/wiki/Linear_algebra#Further_reading\n",
    "* Linear algebra on Wikibooks, at http://en.wikibooks.org/wiki/Linear_Algebra\n",
    "* Linear algebra lectures on Awesome Math, at https://github.com/rossant/awesome-math/#linear-algebra"
   ]
  },
  {
   "cell_type": "code",
   "execution_count": 1,
   "metadata": {},
   "outputs": [],
   "source": [
    "from sympy import *\n",
    "init_printing()"
   ]
  },
  {
   "cell_type": "code",
   "execution_count": 2,
   "metadata": {
    "podoc": {
     "output_text": "(x, y, z, a)"
    }
   },
   "outputs": [
    {
     "data": {
      "image/png": "[encoded data removed]",
      "text/latex": [
       "$$\\left ( x, \\quad y, \\quad z, \\quad a\\right )$$"
      ],
      "text/plain": [
       "(x, y, z, a)"
      ]
     },
     "execution_count": 2,
     "metadata": {},
     "output_type": "execute_result"
    }
   ],
   "source": [
    "var('x y z a')"
   ]
  },
  {
   "cell_type": "code",
   "execution_count": 3,
   "metadata": {
    "podoc": {
     "output_text": "Output"
    }
   },
   "outputs": [
    {
     "data": {
      "image/png": "[encoded data removed]",
      "text/latex": [
       "$$\\left [ - \\sqrt{a}, \\quad \\sqrt{a}\\right ]$$"
      ],
      "text/plain": [
       "[-√a, √a]"
      ]
     },
     "execution_count": 3,
     "metadata": {},
     "output_type": "execute_result"
    }
   ],
   "source": [
    "solve(x**2 - a, x)"
   ]
  },
  {
   "cell_type": "code",
   "execution_count": 4,
   "metadata": {},
   "outputs": [
    {
     "data": {
      "text/plain": [
       "sympy.core.symbol.Symbol"
      ]
     },
     "execution_count": 4,
     "metadata": {},
     "output_type": "execute_result"
    }
   ],
   "source": [
    "type(x)"
   ]
  },
  {
   "cell_type": "code",
   "execution_count": 5,
   "metadata": {
    "podoc": {
     "output_text": "Output"
    }
   },
   "outputs": [
    {
     "data": {
      "image/png": "[encoded data removed]",
      "text/latex": [
       "$$\\left(-\\infty < x \\wedge x < -2\\right) \\vee \\left(2 < x \\wedge x < \\infty\\right)$$"
      ],
      "text/plain": [
       "(-∞ < x ∧ x < -2) ∨ (2 < x ∧ x < ∞)"
      ]
     },
     "execution_count": 5,
     "metadata": {},
     "output_type": "execute_result"
    }
   ],
   "source": [
    "x = Symbol('x')\n",
    "solve_univariate_inequality(x**2 > 4, x)"
   ]
  },
  {
   "cell_type": "code",
   "execution_count": 10,
   "metadata": {},
   "outputs": [
    {
     "data": {
      "image/png": "[encoded data removed]",
      "text/latex": [
       "$$\\left ( x + 2 y + 1, \\quad x - 3 y - 2\\right )$$"
      ],
      "text/plain": [
       "(x + 2⋅y + 1, x - 3⋅y - 2)"
      ]
     },
     "execution_count": 10,
     "metadata": {},
     "output_type": "execute_result"
    }
   ],
   "source": [
    "x + 2*y + 1, x - 3*y - 2"
   ]
  },
  {
   "cell_type": "code",
   "execution_count": 11,
   "metadata": {
    "podoc": {
     "output_text": "Output"
    }
   },
   "outputs": [
    {
     "data": {
      "image/png": "[encoded data removed]",
      "text/latex": [
       "$$\\left \\{ x : \\frac{1}{5}, \\quad y : - \\frac{3}{5}\\right \\}$$"
      ],
      "text/plain": [
       "{x: 1/5, y: -3/5}"
      ]
     },
     "execution_count": 11,
     "metadata": {},
     "output_type": "execute_result"
    }
   ],
   "source": [
    "solve([x + 2*y + 1, x - 3*y - 2], x, y)"
   ]
  },
  {
   "cell_type": "code",
   "execution_count": 12,
   "metadata": {
    "podoc": {
     "output_text": "Output"
    }
   },
   "outputs": [
    {
     "data": {
      "image/png": "[encoded data removed]",
      "text/latex": [
       "$$\\left \\{ x : - 2 y - 1\\right \\}$$"
      ],
      "text/plain": [
       "{x: -2⋅y - 1}"
      ]
     },
     "execution_count": 12,
     "metadata": {},
     "output_type": "execute_result"
    }
   ],
   "source": [
    "solve([x + 2*y + 1, -x - 2*y - 1], x, y)"
   ]
  },
  {
   "cell_type": "code",
   "execution_count": 13,
   "metadata": {
    "podoc": {
     "output_text": "Output"
    }
   },
   "outputs": [
    {
     "data": {
      "image/png": "[encoded data removed]",
      "text/latex": [
       "$$\\left [ \\left ( - \\frac{\\sqrt{3}}{2}, \\quad - \\frac{1}{2}\\right ), \\quad \\left ( - \\frac{\\sqrt{3}}{2}, \\quad \\frac{1}{2}\\right ), \\quad \\left ( \\frac{\\sqrt{3}}{2}, \\quad - \\frac{1}{2}\\right ), \\quad \\left ( \\frac{\\sqrt{3}}{2}, \\quad \\frac{1}{2}\\right )\\right ]$$"
      ],
      "text/plain": [
       "⎡⎛-√3       ⎞  ⎛-√3      ⎞  ⎛√3      ⎞  ⎛√3     ⎞⎤\n",
       "⎢⎜────, -1/2⎟, ⎜────, 1/2⎟, ⎜──, -1/2⎟, ⎜──, 1/2⎟⎥\n",
       "⎣⎝ 2        ⎠  ⎝ 2       ⎠  ⎝2       ⎠  ⎝2      ⎠⎦"
      ]
     },
     "execution_count": 13,
     "metadata": {},
     "output_type": "execute_result"
    }
   ],
   "source": [
    "solve([x**2 + y**2 - 1, x**2 - y**2 - S(1) / 2], x, y)"
   ]
  },
  {
   "cell_type": "code",
   "execution_count": 14,
   "metadata": {
    "podoc": {
     "output_text": "Output"
    }
   },
   "outputs": [
    {
     "data": {
      "image/png": "[encoded data removed]",
      "text/latex": [
       "$$\\left ( a, \\quad b, \\quad c, \\quad d, \\quad u, \\quad v\\right )$$"
      ],
      "text/plain": [
       "(a, b, c, d, u, v)"
      ]
     },
     "execution_count": 14,
     "metadata": {},
     "output_type": "execute_result"
    }
   ],
   "source": [
    "var('a b c d u v')"
   ]
  },
  {
   "cell_type": "code",
   "execution_count": 15,
   "metadata": {
    "podoc": {
     "output_text": "Output"
    }
   },
   "outputs": [
    {
     "data": {
      "text/latex": [
       "$$\\left[\\begin{matrix}a & b & u\\\\c & d & v\\end{matrix}\\right]$$"
      ],
      "text/plain": [
       "⎡a  b  u⎤\n",
       "⎢       ⎥\n",
       "⎣c  d  v⎦"
      ]
     },
     "execution_count": 15,
     "metadata": {},
     "output_type": "execute_result"
    }
   ],
   "source": [
    "M = Matrix([[a, b, u], [c, d, v]])\n",
    "M"
   ]
  },
  {
   "cell_type": "code",
   "execution_count": 16,
   "metadata": {
    "podoc": {
     "output_text": "Output"
    }
   },
   "outputs": [
    {
     "data": {
      "image/png": "[encoded data removed]",
      "text/latex": [
       "$$\\left \\{ x : \\frac{- b v + d u}{a d - b c}, \\quad y : \\frac{a v - c u}{a d - b c}\\right \\}$$"
      ],
      "text/plain": [
       "⎧   -b⋅v + d⋅u     a⋅v - c⋅u⎫\n",
       "⎨x: ──────────, y: ─────────⎬\n",
       "⎩   a⋅d - b⋅c      a⋅d - b⋅c⎭"
      ]
     },
     "execution_count": 16,
     "metadata": {},
     "output_type": "execute_result"
    }
   ],
   "source": [
    "solve_linear_system(M, x, y)"
   ]
  },
  {
   "cell_type": "code",
   "execution_count": 18,
   "metadata": {},
   "outputs": [
    {
     "data": {
      "text/latex": [
       "$$\\left[\\begin{matrix}a & b\\\\c & d\\end{matrix}\\right]$$"
      ],
      "text/plain": [
       "⎡a  b⎤\n",
       "⎢    ⎥\n",
       "⎣c  d⎦"
      ]
     },
     "execution_count": 18,
     "metadata": {},
     "output_type": "execute_result"
    }
   ],
   "source": [
    "M[:2, :2]"
   ]
  },
  {
   "cell_type": "code",
   "execution_count": 17,
   "metadata": {
    "podoc": {
     "output_text": "Output"
    }
   },
   "outputs": [
    {
     "data": {
      "image/png": "[encoded data removed]",
      "text/latex": [
       "$$a d - b c$$"
      ],
      "text/plain": [
       "a⋅d - b⋅c"
      ]
     },
     "execution_count": 17,
     "metadata": {},
     "output_type": "execute_result"
    }
   ],
   "source": [
    "det(M[:2, :2])"
   ]
  },
  {
   "cell_type": "code",
   "execution_count": null,
   "metadata": {},
   "outputs": [],
   "source": []
  }
 ],
 "metadata": {
  "kernelspec": {
   "display_name": "Python 3",
   "language": "python",
   "name": "python3"
  },
  "language_info": {
   "codemirror_mode": {
    "name": "ipython",
    "version": 3
   },
   "file_extension": ".py",
   "mimetype": "text/x-python",
   "name": "python",
   "nbconvert_exporter": "python",
   "pygments_lexer": "ipython3",
   "version": "3.7.3"
  }
 },
 "nbformat": 4,
 "nbformat_minor": 2
}
